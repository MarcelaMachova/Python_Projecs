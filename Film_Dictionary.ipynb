{
  "nbformat": 4,
  "nbformat_minor": 0,
  "metadata": {
    "colab": {
      "provenance": [],
      "authorship_tag": "ABX9TyOurugy++SV8EQvrGvi2XGL",
      "include_colab_link": true
    },
    "kernelspec": {
      "name": "python3",
      "display_name": "Python 3"
    },
    "language_info": {
      "name": "python"
    }
  },
  "cells": [
    {
      "cell_type": "markdown",
      "metadata": {
        "id": "view-in-github",
        "colab_type": "text"
      },
      "source": [
        "<a href=\"https://colab.research.google.com/github/MarcelaMachova/Python_Projecs/blob/main/Film_Dictionary.ipynb\" target=\"_parent\"><img src=\"https://colab.research.google.com/assets/colab-badge.svg\" alt=\"Open In Colab\"/></a>"
      ]
    },
    {
      "cell_type": "code",
      "execution_count": 1,
      "metadata": {
        "colab": {
          "base_uri": "https://localhost:8080/"
        },
        "id": "IcqBGP2ZT7pN",
        "outputId": "bee187ab-92af-4530-b292-695a746afe63"
      },
      "outputs": [
        {
          "output_type": "stream",
          "name": "stdout",
          "text": [
            "Zadej jméno: petr\n",
            "==============================================================\n",
            "              VÍTEJTE V NAŠEM FILMOVÉM SLOVNÍKU!              \n",
            "==============================================================\n",
            "        | dostupne filmy | detaily filmu | reziseri |         \n",
            "==============================================================\n",
            "Vyber službu: dostupne filmy\n",
            "DOSTUPNE FILMY:\n",
            "Shawshank Redemption, The Godfather, The Dark Knight, The Prestige\n"
          ]
        }
      ],
      "source": [
        "# Cílem tohoto projektu bylo vytvořit jednoduchý slovník, který by obsahovat detaily o různých filmech.\n",
        "\n",
        "# Vstupní proměnné\n",
        "oddelovac = \"=\" * 62\n",
        "uzivatele = {\"tomas\", \"petr\", \"marek\"}\n",
        "sluzby = (\"dostupne filmy\", \"detaily filmu\", \"reziseri\")\n",
        "\n",
        "film_1 = {\n",
        "    \"JMENO\": \"Shawshank Redemption\",\n",
        "    \"HODNOCENI\": \"93/100\",\n",
        "    \"ROK\": 1994,\n",
        "    \"REZISER\": \"Frank Darabont\",\n",
        "    \"STOPAZ\": 144,\n",
        "    \"HRAJI\": (\"Tim Robbins\", \"Morgan Freeman\", \"Bob Gunton\", \"William Sadler\",\n",
        "      \"Clancy Brown\", \"Gil Bellows\", \"Mark Rolston\", \"James Whitmore\",\n",
        "      \"Jeffrey DeMunn\", \"Larry Brandenburg\"\n",
        "    )\n",
        "}\n",
        "\n",
        "film_2 = {\n",
        "    \"JMENO\": \"The Godfather\",\n",
        "    \"HODNOCENI\": \"92/100\",\n",
        "    \"ROK\": 1972,\n",
        "    \"REZISER\": \"Francis Ford Coppola\",\n",
        "    \"STOPAZ\": 175,\n",
        "    \"HRAJI\": (\"Marlon Brando\", \"Al Pacino\", \"James Caan\",\n",
        "      \"Richard S. Castellano\", \"Robert Duvall\", \"Sterling Hayden\",\n",
        "      \"John Marley\", \"Richard Conte\"\n",
        "    )\n",
        "}\n",
        "\n",
        "film_3 = {\n",
        "    \"JMENO\": \"The Dark Knight\",\n",
        "    \"HODNOCENI\": \"90/100\",\n",
        "    \"ROK\": 2008,\n",
        "    \"REZISER\": \"Christopher Nolan\",\n",
        "    \"STOPAZ\": 152,\n",
        "    \"HRAJI\": (\"Christian Bale\", \"Heath Ledger\", \"Aaron Eckhart\",\n",
        "      \"Michael Caine\", \"Maggie Gyllenhaal\", \"Gary Oldman\", \"Morgan Freeman\",\n",
        "      \"Monique Gabriela\", \"Ron Dean\", \"Cillian Murphy\"\n",
        "    )\n",
        "}\n",
        "\n",
        "film_4 = {\n",
        "    \"JMENO\": \"The Prestige\",\n",
        "    \"HODNOCENI\": \"85/100\",\n",
        "    \"ROK\": 2006,\n",
        "    \"REZISER\": \"Christopher Nolan\",\n",
        "    \"STOPAZ\": 130,\n",
        "    \"HRAJI\": (\"Hugh Jackman\", \"Christian Bale\", \"Michael Caine\",\n",
        "      \"Piper Perabo\", \"Rebecca Hall\", \"Scarlett Johansson\", \"Samantha Mahurin\",\n",
        "      \"David Bowie\"\n",
        "    )\n",
        "}\n",
        "\n",
        "# Společný slovník 'filmy'\n",
        "filmy = {}\n",
        "filmy.update({film_1[\"JMENO\"]:film_1})\n",
        "filmy.update({film_2[\"JMENO\"]:film_2})\n",
        "filmy.update({film_3[\"JMENO\"]:film_3})\n",
        "filmy.update({film_4[\"JMENO\"]:film_4})\n",
        "\n",
        "\n",
        "# Přihlášení, uvítání, nabídka\n",
        "jmeno = input(\"Zadej jméno: \")\n",
        "\n",
        "if not jmeno in uzivatele:\n",
        "    print(\"Uživatel neexistuje. Není možné pokračovat. :(\")\n",
        "    exit()\n",
        "else:\n",
        "    print(oddelovac)\n",
        "    print(\"Vítejte v našem filmovém slovníku!\".upper().center(62))\n",
        "    print(oddelovac)\n",
        "\n",
        "sluzby_string = \" | \".join(sluzby)\n",
        "print((\"| \" + sluzby_string + \" |\").center(62))\n",
        "print(oddelovac)\n",
        "\n",
        "# Umožnit výběr ze služeb, výpis všech filmů a ukončení\n",
        "vyber_sluzbu = input(\"Vyber službu: \")\n",
        "\n",
        "if vyber_sluzbu == \"dostupne filmy\":\n",
        "    print(\"DOSTUPNE FILMY:\")\n",
        "    print(\", \".join(filmy.keys()))\n",
        "    exit()\n",
        "elif vyber_sluzbu == \"detaily filmu\":\n",
        "    print(\"DOSTUPNE FILMY:\")\n",
        "    print(\", \".join(filmy.keys()))\n",
        "    klice = list(filmy.keys())\n",
        "    vybrany_klic = input(\"Vyber film: \")\n",
        "    print(oddelovac)\n",
        "    if vybrany_klic in filmy:\n",
        "        hodnota = filmy[vybrany_klic]\n",
        "        print(\"FILM: \", vybrany_klic)\n",
        "    else:\n",
        "        print(\"Takový film není ve slovníku!\")\n",
        "    print(hodnota)\n",
        "elif vyber_sluzbu == \"reziseri\":\n",
        "    reziseri = [film.get(\"REZISER\") for film in filmy.values()]\n",
        "    print(\"Režiséři: \", \", \".join(reziseri))\n",
        "else:\n",
        "    print(\"Vybraná služba není v nabídce, není možné pokračovat.\")\n",
        "    exit()\n"
      ]
    },
    {
      "cell_type": "code",
      "source": [],
      "metadata": {
        "id": "wJca1D0KVwDt"
      },
      "execution_count": null,
      "outputs": []
    },
    {
      "cell_type": "code",
      "source": [],
      "metadata": {
        "id": "30LeHYn_VwZj"
      },
      "execution_count": null,
      "outputs": []
    }
  ]
}