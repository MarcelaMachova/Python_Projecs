{
  "nbformat": 4,
  "nbformat_minor": 0,
  "metadata": {
    "colab": {
      "provenance": [],
      "authorship_tag": "ABX9TyOoUAPohe/iim9u2zI+9Iol",
      "include_colab_link": true
    },
    "kernelspec": {
      "name": "python3",
      "display_name": "Python 3"
    },
    "language_info": {
      "name": "python"
    }
  },
  "cells": [
    {
      "cell_type": "markdown",
      "metadata": {
        "id": "view-in-github",
        "colab_type": "text"
      },
      "source": [
        "<a href=\"https://colab.research.google.com/github/MarcelaMachova/Python_Projecs/blob/main/Po%C4%8Dty_%C4%8D%C3%ADsel.ipynb\" target=\"_parent\"><img src=\"https://colab.research.google.com/assets/colab-badge.svg\" alt=\"Open In Colab\"/></a>"
      ]
    },
    {
      "cell_type": "code",
      "execution_count": 1,
      "metadata": {
        "id": "v5s-GPYPa_pB",
        "colab": {
          "base_uri": "https://localhost:8080/"
        },
        "outputId": "f924a6fa-690c-4bc8-818d-b33ea6f45fc4"
      },
      "outputs": [
        {
          "output_type": "stream",
          "name": "stdout",
          "text": [
            "key:  1 value:  5\n",
            "key:  2 value:  3\n",
            "key:  3 value:  2\n",
            "key:  4 value:  1\n",
            "key:  5 value:  2\n",
            "key:  6 value:  2\n",
            "key:  8 value:  1\n",
            "key:  9 value:  1\n",
            "key:  10 value:  1\n",
            "key:  21 value:  1\n",
            "key:  32 value:  2\n"
          ]
        }
      ],
      "source": [
        "# Zadané hodnoty\n",
        "sequence = [1, 21, 5, 3, 5, 8, 32, 1, 1, 10, 2, 2, 32, 6, 9, 1, 4, 6, 3, 1, 2]\n",
        "counts = {}\n",
        "\n",
        "# Cyklus, který spočítá jednotlivé výskyty čísel\n",
        "for element in sequence:\n",
        "    # .. pokud číslo není uložené, eviduj jej jako první hodnotu\n",
        "    if element not in counts:\n",
        "        counts[element] = 1\n",
        "\n",
        "    # .. pokud číslo je uložené, inkrementuj původní hodnotu\n",
        "    else:\n",
        "        counts[element] = counts[element] + 1\n",
        "\n",
        "# Setřiď podle klíče a vypiš seřazené hodnoty\n",
        "for key, value in sorted(counts.items()):\n",
        "    print(\"key: \", key, \"value: \", value)"
      ]
    }
  ]
}